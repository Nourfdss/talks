{
 "cells": [
  {
   "cell_type": "markdown",
   "metadata": {},
   "source": [
    "### Setting up Environment with namespaces, variables, and functions"
   ]
  },
  {
   "cell_type": "code",
   "execution_count": 1,
   "metadata": {
    "collapsed": true
   },
   "outputs": [],
   "source": [
    "import pandas as pd\n",
    "import pickle"
   ]
  },
  {
   "cell_type": "code",
   "execution_count": 2,
   "metadata": {
    "collapsed": true
   },
   "outputs": [],
   "source": [
    "def to_pandas_df(spark_df, num_rows=20):\n",
    "    '''Converts spark.DataFrame to pandas.DataFrame for easy printing in Jupyter\n",
    "    \n",
    "    This function makes it easy to peak into a spark.DataFrame.\n",
    "    Note: spark.sql.toPandas() will crash if DataFrame overloads driver's memory\n",
    "    \n",
    "    Args:\n",
    "        * spark_df - spark.DataFrame object\n",
    "        * num_rows - number of rows to convert\n",
    "        \n",
    "    Returns:\n",
    "        * pandas DataFrame\n",
    "    '''\n",
    "    \n",
    "    temp_df = spark_df.take(num_rows)\n",
    "    return pd.DataFrame(temp_df,\n",
    "                        columns=temp_df[0].__fields__)"
   ]
  },
  {
   "cell_type": "markdown",
   "metadata": {},
   "source": [
    "---"
   ]
  },
  {
   "cell_type": "markdown",
   "metadata": {
    "collapsed": true
   },
   "source": [
    "### Load 2009-2010 IP data"
   ]
  },
  {
   "cell_type": "markdown",
   "metadata": {},
   "source": [
    "#### First time have inferSchema=True then pickle schema so we can reuse for next time to speed up read from disk"
   ]
  },
  {
   "cell_type": "code",
   "execution_count": 3,
   "metadata": {
    "collapsed": true
   },
   "outputs": [],
   "source": [
    "# .read supports wildcards *\n",
    "thcic_ip_df = (sqlContext\n",
    "                   .read\n",
    "                   .csv(path='hdfs://sandbox.hortonworks.com/user/guest/thcic/spark/PUDF_base*_tab.txt',\n",
    "                        sep='\\t',\n",
    "                        header=True,\n",
    "                        inferSchema=True))"
   ]
  },
  {
   "cell_type": "code",
   "execution_count": 4,
   "metadata": {},
   "outputs": [
    {
     "data": {
      "text/html": [
       "<div>\n",
       "<table border=\"1\" class=\"dataframe\">\n",
       "  <thead>\n",
       "    <tr style=\"text-align: right;\">\n",
       "      <th></th>\n",
       "      <th>DISCHARGE_QTR</th>\n",
       "      <th>THCIC_ID</th>\n",
       "      <th>PROVIDER_NAME</th>\n",
       "      <th>FAC_TEACHING_IND</th>\n",
       "      <th>FAC_PSYCH_IND</th>\n",
       "      <th>FAC_REHAB_IND</th>\n",
       "      <th>FAC_ACUTE_CARE_IND</th>\n",
       "      <th>FAC_SNF_IND</th>\n",
       "      <th>FAC_LONG_TERM_AC_IND</th>\n",
       "      <th>FAC_OTHER_LTC_IND</th>\n",
       "      <th>...</th>\n",
       "      <th>HCFA_MDC</th>\n",
       "      <th>APR_MDC</th>\n",
       "      <th>HCFA_DRG</th>\n",
       "      <th>APR_DRG</th>\n",
       "      <th>RISK_MORTALITY</th>\n",
       "      <th>ILLNESS_SEVERITY</th>\n",
       "      <th>ATTENDING_PHYS_UNIF_ID</th>\n",
       "      <th>OPERATING_PHYS_UNIF_ID</th>\n",
       "      <th>CERT_STATUS</th>\n",
       "      <th>RECORD_ID</th>\n",
       "    </tr>\n",
       "  </thead>\n",
       "  <tbody>\n",
       "    <tr>\n",
       "      <th>0</th>\n",
       "      <td>2009Q1</td>\n",
       "      <td>100.0</td>\n",
       "      <td>Austin State Hospital</td>\n",
       "      <td>None</td>\n",
       "      <td>X</td>\n",
       "      <td>None</td>\n",
       "      <td>None</td>\n",
       "      <td>None</td>\n",
       "      <td>None</td>\n",
       "      <td>None</td>\n",
       "      <td>...</td>\n",
       "      <td>19</td>\n",
       "      <td>19</td>\n",
       "      <td>880</td>\n",
       "      <td>756</td>\n",
       "      <td>1</td>\n",
       "      <td>1</td>\n",
       "      <td>9999999998</td>\n",
       "      <td>None</td>\n",
       "      <td>2</td>\n",
       "      <td>120090000509</td>\n",
       "    </tr>\n",
       "    <tr>\n",
       "      <th>1</th>\n",
       "      <td>2009Q1</td>\n",
       "      <td>100.0</td>\n",
       "      <td>Austin State Hospital</td>\n",
       "      <td>None</td>\n",
       "      <td>X</td>\n",
       "      <td>None</td>\n",
       "      <td>None</td>\n",
       "      <td>None</td>\n",
       "      <td>None</td>\n",
       "      <td>None</td>\n",
       "      <td>...</td>\n",
       "      <td>19</td>\n",
       "      <td>19</td>\n",
       "      <td>881</td>\n",
       "      <td>754</td>\n",
       "      <td>1</td>\n",
       "      <td>1</td>\n",
       "      <td>9999999998</td>\n",
       "      <td>None</td>\n",
       "      <td>2</td>\n",
       "      <td>120090000373</td>\n",
       "    </tr>\n",
       "    <tr>\n",
       "      <th>2</th>\n",
       "      <td>2009Q1</td>\n",
       "      <td>100.0</td>\n",
       "      <td>Austin State Hospital</td>\n",
       "      <td>None</td>\n",
       "      <td>X</td>\n",
       "      <td>None</td>\n",
       "      <td>None</td>\n",
       "      <td>None</td>\n",
       "      <td>None</td>\n",
       "      <td>None</td>\n",
       "      <td>...</td>\n",
       "      <td>19</td>\n",
       "      <td>19</td>\n",
       "      <td>881</td>\n",
       "      <td>754</td>\n",
       "      <td>1</td>\n",
       "      <td>2</td>\n",
       "      <td>9999999998</td>\n",
       "      <td>None</td>\n",
       "      <td>2</td>\n",
       "      <td>120090000283</td>\n",
       "    </tr>\n",
       "    <tr>\n",
       "      <th>3</th>\n",
       "      <td>2009Q1</td>\n",
       "      <td>100.0</td>\n",
       "      <td>Austin State Hospital</td>\n",
       "      <td>None</td>\n",
       "      <td>X</td>\n",
       "      <td>None</td>\n",
       "      <td>None</td>\n",
       "      <td>None</td>\n",
       "      <td>None</td>\n",
       "      <td>None</td>\n",
       "      <td>...</td>\n",
       "      <td>19</td>\n",
       "      <td>19</td>\n",
       "      <td>881</td>\n",
       "      <td>754</td>\n",
       "      <td>1</td>\n",
       "      <td>2</td>\n",
       "      <td>9999999998</td>\n",
       "      <td>None</td>\n",
       "      <td>2</td>\n",
       "      <td>120090000159</td>\n",
       "    </tr>\n",
       "    <tr>\n",
       "      <th>4</th>\n",
       "      <td>2009Q1</td>\n",
       "      <td>100.0</td>\n",
       "      <td>Austin State Hospital</td>\n",
       "      <td>None</td>\n",
       "      <td>X</td>\n",
       "      <td>None</td>\n",
       "      <td>None</td>\n",
       "      <td>None</td>\n",
       "      <td>None</td>\n",
       "      <td>None</td>\n",
       "      <td>...</td>\n",
       "      <td>19</td>\n",
       "      <td>19</td>\n",
       "      <td>881</td>\n",
       "      <td>754</td>\n",
       "      <td>1</td>\n",
       "      <td>1</td>\n",
       "      <td>9999999998</td>\n",
       "      <td>None</td>\n",
       "      <td>2</td>\n",
       "      <td>120090000477</td>\n",
       "    </tr>\n",
       "  </tbody>\n",
       "</table>\n",
       "<p>5 rows × 255 columns</p>\n",
       "</div>"
      ],
      "text/plain": [
       "  DISCHARGE_QTR  THCIC_ID          PROVIDER_NAME FAC_TEACHING_IND  \\\n",
       "0        2009Q1     100.0  Austin State Hospital             None   \n",
       "1        2009Q1     100.0  Austin State Hospital             None   \n",
       "2        2009Q1     100.0  Austin State Hospital             None   \n",
       "3        2009Q1     100.0  Austin State Hospital             None   \n",
       "4        2009Q1     100.0  Austin State Hospital             None   \n",
       "\n",
       "  FAC_PSYCH_IND FAC_REHAB_IND FAC_ACUTE_CARE_IND FAC_SNF_IND  \\\n",
       "0             X          None               None        None   \n",
       "1             X          None               None        None   \n",
       "2             X          None               None        None   \n",
       "3             X          None               None        None   \n",
       "4             X          None               None        None   \n",
       "\n",
       "  FAC_LONG_TERM_AC_IND FAC_OTHER_LTC_IND      ...      HCFA_MDC APR_MDC  \\\n",
       "0                 None              None      ...            19      19   \n",
       "1                 None              None      ...            19      19   \n",
       "2                 None              None      ...            19      19   \n",
       "3                 None              None      ...            19      19   \n",
       "4                 None              None      ...            19      19   \n",
       "\n",
       "   HCFA_DRG APR_DRG RISK_MORTALITY ILLNESS_SEVERITY ATTENDING_PHYS_UNIF_ID  \\\n",
       "0       880     756              1                1             9999999998   \n",
       "1       881     754              1                1             9999999998   \n",
       "2       881     754              1                2             9999999998   \n",
       "3       881     754              1                2             9999999998   \n",
       "4       881     754              1                1             9999999998   \n",
       "\n",
       "  OPERATING_PHYS_UNIF_ID CERT_STATUS     RECORD_ID  \n",
       "0                   None           2  120090000509  \n",
       "1                   None           2  120090000373  \n",
       "2                   None           2  120090000283  \n",
       "3                   None           2  120090000159  \n",
       "4                   None           2  120090000477  \n",
       "\n",
       "[5 rows x 255 columns]"
      ]
     },
     "execution_count": 4,
     "metadata": {},
     "output_type": "execute_result"
    }
   ],
   "source": [
    "to_pandas_df(thcic_ip_df, num_rows=5)"
   ]
  },
  {
   "cell_type": "code",
   "execution_count": 5,
   "metadata": {
    "collapsed": true
   },
   "outputs": [],
   "source": [
    "f = open('IP_schema', 'wb')\n",
    "pickle.dump(thcic_ip_df.schema, f)"
   ]
  },
  {
   "cell_type": "markdown",
   "metadata": {},
   "source": [
    "#### Load schema via pickle, use second read for subsequent analyses"
   ]
  },
  {
   "cell_type": "code",
   "execution_count": 6,
   "metadata": {
    "collapsed": true
   },
   "outputs": [],
   "source": [
    "f = open('IP_schema', 'rb')\n",
    "thcic_ip_schema = pickle.load(f)"
   ]
  },
  {
   "cell_type": "code",
   "execution_count": 7,
   "metadata": {},
   "outputs": [
    {
     "data": {
      "text/plain": [
       "True"
      ]
     },
     "execution_count": 7,
     "metadata": {},
     "output_type": "execute_result"
    }
   ],
   "source": [
    "thcic_ip_df.schema == thcic_ip_schema"
   ]
  },
  {
   "cell_type": "code",
   "execution_count": 8,
   "metadata": {
    "collapsed": true
   },
   "outputs": [],
   "source": [
    "# .read supports wildcards *\n",
    "thcic_ip_df = (sqlContext\n",
    "                   .read\n",
    "                   .csv(path='hdfs://sandbox.hortonworks.com/user/guest/thcic/spark/PUDF_base*_tab.txt',\n",
    "                        sep='\\t',\n",
    "                        header=True,\n",
    "                        schema=thcic_ip_schema))"
   ]
  },
  {
   "cell_type": "markdown",
   "metadata": {},
   "source": [
    "---"
   ]
  },
  {
   "cell_type": "markdown",
   "metadata": {},
   "source": [
    "### How many patients per MS-DRG per COUNTY per DISCHARGE_QTR"
   ]
  },
  {
   "cell_type": "markdown",
   "metadata": {
    "collapsed": true
   },
   "source": [
    "* Simple Analysis\n",
    "    * How many patients per county per year?\n",
    "    * map this out in folium\n",
    "    \n",
    "    * We also have MS-DRG so we can see how that is changing\n",
    "    * in planning, this is the start to see how you are faring against you competitors for people in certain zip codes\n",
    "    for specific product lines"
   ]
  },
  {
   "cell_type": "code",
   "execution_count": 9,
   "metadata": {
    "collapsed": true
   },
   "outputs": [],
   "source": [
    "thcic_ip_qtr_county_msdrg = (thcic_ip_df\n",
    "                                 .select('DISCHARGE_QTR', 'COUNTY', 'HCFA_DRG')\n",
    "                                 .groupby(['DISCHARGE_QTR', 'COUNTY', 'HCFA_DRG'])\n",
    "                                 .count())"
   ]
  },
  {
   "cell_type": "code",
   "execution_count": 10,
   "metadata": {
    "collapsed": true
   },
   "outputs": [],
   "source": [
    "thcic_grouped_pandas = thcic_ip_qtr_county_msdrg.toPandas()"
   ]
  },
  {
   "cell_type": "code",
   "execution_count": 11,
   "metadata": {},
   "outputs": [
    {
     "data": {
      "text/html": [
       "<div>\n",
       "<table border=\"1\" class=\"dataframe\">\n",
       "  <thead>\n",
       "    <tr style=\"text-align: right;\">\n",
       "      <th></th>\n",
       "      <th>DISCHARGE_QTR</th>\n",
       "      <th>COUNTY</th>\n",
       "      <th>HCFA_DRG</th>\n",
       "      <th>count</th>\n",
       "    </tr>\n",
       "  </thead>\n",
       "  <tbody>\n",
       "    <tr>\n",
       "      <th>0</th>\n",
       "      <td>2009Q1</td>\n",
       "      <td>167.0</td>\n",
       "      <td>30.0</td>\n",
       "      <td>4</td>\n",
       "    </tr>\n",
       "    <tr>\n",
       "      <th>1</th>\n",
       "      <td>2009Q1</td>\n",
       "      <td>471.0</td>\n",
       "      <td>158.0</td>\n",
       "      <td>4</td>\n",
       "    </tr>\n",
       "    <tr>\n",
       "      <th>2</th>\n",
       "      <td>2009Q1</td>\n",
       "      <td>201.0</td>\n",
       "      <td>256.0</td>\n",
       "      <td>28</td>\n",
       "    </tr>\n",
       "    <tr>\n",
       "      <th>3</th>\n",
       "      <td>2009Q1</td>\n",
       "      <td>245.0</td>\n",
       "      <td>465.0</td>\n",
       "      <td>3</td>\n",
       "    </tr>\n",
       "    <tr>\n",
       "      <th>4</th>\n",
       "      <td>2009Q1</td>\n",
       "      <td>471.0</td>\n",
       "      <td>947.0</td>\n",
       "      <td>2</td>\n",
       "    </tr>\n",
       "  </tbody>\n",
       "</table>\n",
       "</div>"
      ],
      "text/plain": [
       "  DISCHARGE_QTR  COUNTY  HCFA_DRG  count\n",
       "0        2009Q1   167.0      30.0      4\n",
       "1        2009Q1   471.0     158.0      4\n",
       "2        2009Q1   201.0     256.0     28\n",
       "3        2009Q1   245.0     465.0      3\n",
       "4        2009Q1   471.0     947.0      2"
      ]
     },
     "execution_count": 11,
     "metadata": {},
     "output_type": "execute_result"
    }
   ],
   "source": [
    "thcic_grouped_pandas.head()"
   ]
  },
  {
   "cell_type": "markdown",
   "metadata": {},
   "source": [
    "### Remove NAs if any"
   ]
  },
  {
   "cell_type": "code",
   "execution_count": 12,
   "metadata": {},
   "outputs": [
    {
     "data": {
      "text/plain": [
       "DISCHARGE_QTR       2\n",
       "COUNTY           5638\n",
       "HCFA_DRG           13\n",
       "count               0\n",
       "dtype: int64"
      ]
     },
     "execution_count": 12,
     "metadata": {},
     "output_type": "execute_result"
    }
   ],
   "source": [
    "thcic_grouped_pandas.isnull().sum()"
   ]
  },
  {
   "cell_type": "code",
   "execution_count": 13,
   "metadata": {
    "collapsed": true
   },
   "outputs": [],
   "source": [
    "thcic_grouped_pandas = thcic_grouped_pandas.dropna()"
   ]
  },
  {
   "cell_type": "code",
   "execution_count": 14,
   "metadata": {},
   "outputs": [
    {
     "data": {
      "text/plain": [
       "DISCHARGE_QTR    0\n",
       "COUNTY           0\n",
       "HCFA_DRG         0\n",
       "count            0\n",
       "dtype: int64"
      ]
     },
     "execution_count": 14,
     "metadata": {},
     "output_type": "execute_result"
    }
   ],
   "source": [
    "thcic_grouped_pandas.isnull().sum()"
   ]
  },
  {
   "cell_type": "markdown",
   "metadata": {
    "collapsed": true
   },
   "source": [
    "### Convert from float to int for DRG (MS-DRG-XXX format)\n",
    "### Convert from float to zero padded string for FIPS county code (Texas FIPS format 48XXX)"
   ]
  },
  {
   "cell_type": "code",
   "execution_count": 15,
   "metadata": {
    "collapsed": true
   },
   "outputs": [],
   "source": [
    "thcic_grouped_pandas['HCFA_DRG'] = (thcic_grouped_pandas['HCFA_DRG']\n",
    "                                        .astype(int))"
   ]
  },
  {
   "cell_type": "code",
   "execution_count": 16,
   "metadata": {
    "collapsed": true
   },
   "outputs": [],
   "source": [
    "thcic_grouped_pandas['COUNTY'] = (thcic_grouped_pandas['COUNTY']\n",
    "                                      .astype(int)\n",
    "                                      .astype(str)\n",
    "                                      .str.zfill(3))"
   ]
  },
  {
   "cell_type": "code",
   "execution_count": 17,
   "metadata": {},
   "outputs": [
    {
     "data": {
      "text/html": [
       "<div>\n",
       "<table border=\"1\" class=\"dataframe\">\n",
       "  <thead>\n",
       "    <tr style=\"text-align: right;\">\n",
       "      <th></th>\n",
       "      <th>DISCHARGE_QTR</th>\n",
       "      <th>COUNTY</th>\n",
       "      <th>HCFA_DRG</th>\n",
       "      <th>count</th>\n",
       "    </tr>\n",
       "  </thead>\n",
       "  <tbody>\n",
       "    <tr>\n",
       "      <th>0</th>\n",
       "      <td>2009Q1</td>\n",
       "      <td>167</td>\n",
       "      <td>30</td>\n",
       "      <td>4</td>\n",
       "    </tr>\n",
       "    <tr>\n",
       "      <th>1</th>\n",
       "      <td>2009Q1</td>\n",
       "      <td>471</td>\n",
       "      <td>158</td>\n",
       "      <td>4</td>\n",
       "    </tr>\n",
       "    <tr>\n",
       "      <th>2</th>\n",
       "      <td>2009Q1</td>\n",
       "      <td>201</td>\n",
       "      <td>256</td>\n",
       "      <td>28</td>\n",
       "    </tr>\n",
       "    <tr>\n",
       "      <th>3</th>\n",
       "      <td>2009Q1</td>\n",
       "      <td>245</td>\n",
       "      <td>465</td>\n",
       "      <td>3</td>\n",
       "    </tr>\n",
       "    <tr>\n",
       "      <th>4</th>\n",
       "      <td>2009Q1</td>\n",
       "      <td>471</td>\n",
       "      <td>947</td>\n",
       "      <td>2</td>\n",
       "    </tr>\n",
       "  </tbody>\n",
       "</table>\n",
       "</div>"
      ],
      "text/plain": [
       "  DISCHARGE_QTR COUNTY  HCFA_DRG  count\n",
       "0        2009Q1    167        30      4\n",
       "1        2009Q1    471       158      4\n",
       "2        2009Q1    201       256     28\n",
       "3        2009Q1    245       465      3\n",
       "4        2009Q1    471       947      2"
      ]
     },
     "execution_count": 17,
     "metadata": {},
     "output_type": "execute_result"
    }
   ],
   "source": [
    "thcic_grouped_pandas.head()"
   ]
  },
  {
   "cell_type": "markdown",
   "metadata": {
    "collapsed": true
   },
   "source": [
    "### Save to csv so we can use in next process"
   ]
  },
  {
   "cell_type": "code",
   "execution_count": 18,
   "metadata": {
    "collapsed": true
   },
   "outputs": [],
   "source": [
    "thcic_grouped_pandas.to_csv('thcic-discharges-by-dischargeqtr_county_msdrg.csv', index=False)"
   ]
  },
  {
   "cell_type": "markdown",
   "metadata": {
    "collapsed": true
   },
   "source": [
    "### Number of rows"
   ]
  },
  {
   "cell_type": "code",
   "execution_count": 19,
   "metadata": {},
   "outputs": [
    {
     "data": {
      "text/plain": [
       "5929937"
      ]
     },
     "execution_count": 19,
     "metadata": {},
     "output_type": "execute_result"
    }
   ],
   "source": [
    "thcic_ip_df.count()"
   ]
  },
  {
   "cell_type": "code",
   "execution_count": 20,
   "metadata": {},
   "outputs": [
    {
     "data": {
      "text/plain": [
       "DISCHARGE_QTR    487629\n",
       "COUNTY           487629\n",
       "HCFA_DRG         487629\n",
       "count            487629\n",
       "dtype: int64"
      ]
     },
     "execution_count": 20,
     "metadata": {},
     "output_type": "execute_result"
    }
   ],
   "source": [
    "thcic_grouped_pandas.count()"
   ]
  },
  {
   "cell_type": "markdown",
   "metadata": {
    "collapsed": true
   },
   "source": [
    "----"
   ]
  },
  {
   "cell_type": "markdown",
   "metadata": {},
   "source": [
    "### Can we group hospitals by MS-DRG data?"
   ]
  },
  {
   "cell_type": "markdown",
   "metadata": {
    "collapsed": true
   },
   "source": [
    "* find similar hospitals\n",
    "* similar by quarter\n",
    "* similar by year\n",
    "* similar across entire dataset\n",
    "* based on MSDRG procedures (HCFA_DRG)\n",
    "* PCA then k-means cluster analysis"
   ]
  },
  {
   "cell_type": "code",
   "execution_count": 21,
   "metadata": {
    "collapsed": true
   },
   "outputs": [],
   "source": [
    "thcic_ip_qtr_provider_msdrg = (thcic_ip_df\n",
    "                                   .select('DISCHARGE_QTR', 'PROVIDER_NAME', 'HCFA_DRG')\n",
    "                                   .groupby(['DISCHARGE_QTR', 'PROVIDER_NAME', 'HCFA_DRG'])\n",
    "                                   .count())"
   ]
  },
  {
   "cell_type": "code",
   "execution_count": 22,
   "metadata": {
    "collapsed": true
   },
   "outputs": [],
   "source": [
    "thcic_provider_grouped_pandas = thcic_ip_qtr_provider_msdrg.toPandas()"
   ]
  },
  {
   "cell_type": "code",
   "execution_count": 23,
   "metadata": {},
   "outputs": [
    {
     "data": {
      "text/html": [
       "<div>\n",
       "<table border=\"1\" class=\"dataframe\">\n",
       "  <thead>\n",
       "    <tr style=\"text-align: right;\">\n",
       "      <th></th>\n",
       "      <th>DISCHARGE_QTR</th>\n",
       "      <th>PROVIDER_NAME</th>\n",
       "      <th>HCFA_DRG</th>\n",
       "      <th>count</th>\n",
       "    </tr>\n",
       "  </thead>\n",
       "  <tbody>\n",
       "    <tr>\n",
       "      <th>0</th>\n",
       "      <td>2009Q1</td>\n",
       "      <td>UT Medical Branch Hospital</td>\n",
       "      <td>235.0</td>\n",
       "      <td>2</td>\n",
       "    </tr>\n",
       "    <tr>\n",
       "      <th>1</th>\n",
       "      <td>2009Q1</td>\n",
       "      <td>UT MD Anderson Cancer Center</td>\n",
       "      <td>740.0</td>\n",
       "      <td>10</td>\n",
       "    </tr>\n",
       "    <tr>\n",
       "      <th>2</th>\n",
       "      <td>2009Q1</td>\n",
       "      <td>Baptist St Anthonys Health System-Baptist Campus</td>\n",
       "      <td>28.0</td>\n",
       "      <td>1</td>\n",
       "    </tr>\n",
       "    <tr>\n",
       "      <th>3</th>\n",
       "      <td>2009Q1</td>\n",
       "      <td>Baptist St Anthonys Health System-Baptist Campus</td>\n",
       "      <td>59.0</td>\n",
       "      <td>2</td>\n",
       "    </tr>\n",
       "    <tr>\n",
       "      <th>4</th>\n",
       "      <td>2009Q1</td>\n",
       "      <td>Baptist St Anthonys Health System-Baptist Campus</td>\n",
       "      <td>252.0</td>\n",
       "      <td>11</td>\n",
       "    </tr>\n",
       "  </tbody>\n",
       "</table>\n",
       "</div>"
      ],
      "text/plain": [
       "  DISCHARGE_QTR                                     PROVIDER_NAME  HCFA_DRG  \\\n",
       "0        2009Q1                        UT Medical Branch Hospital     235.0   \n",
       "1        2009Q1                      UT MD Anderson Cancer Center     740.0   \n",
       "2        2009Q1  Baptist St Anthonys Health System-Baptist Campus      28.0   \n",
       "3        2009Q1  Baptist St Anthonys Health System-Baptist Campus      59.0   \n",
       "4        2009Q1  Baptist St Anthonys Health System-Baptist Campus     252.0   \n",
       "\n",
       "   count  \n",
       "0      2  \n",
       "1     10  \n",
       "2      1  \n",
       "3      2  \n",
       "4     11  "
      ]
     },
     "execution_count": 23,
     "metadata": {},
     "output_type": "execute_result"
    }
   ],
   "source": [
    "thcic_provider_grouped_pandas.head()"
   ]
  },
  {
   "cell_type": "code",
   "execution_count": 24,
   "metadata": {},
   "outputs": [
    {
     "data": {
      "text/plain": [
       "DISCHARGE_QTR      2\n",
       "PROVIDER_NAME    160\n",
       "HCFA_DRG          13\n",
       "count              0\n",
       "dtype: int64"
      ]
     },
     "execution_count": 24,
     "metadata": {},
     "output_type": "execute_result"
    }
   ],
   "source": [
    "thcic_provider_grouped_pandas.isnull().sum()"
   ]
  },
  {
   "cell_type": "code",
   "execution_count": 25,
   "metadata": {},
   "outputs": [
    {
     "data": {
      "text/plain": [
       "DISCHARGE_QTR    0\n",
       "PROVIDER_NAME    0\n",
       "HCFA_DRG         0\n",
       "count            0\n",
       "dtype: int64"
      ]
     },
     "execution_count": 25,
     "metadata": {},
     "output_type": "execute_result"
    }
   ],
   "source": [
    "thcic_provider_grouped_pandas = thcic_provider_grouped_pandas.dropna()\n",
    "thcic_provider_grouped_pandas.isnull().sum()"
   ]
  },
  {
   "cell_type": "code",
   "execution_count": 26,
   "metadata": {
    "collapsed": true
   },
   "outputs": [],
   "source": [
    "thcic_provider_grouped_pandas['HCFA_DRG'] = (thcic_provider_grouped_pandas['HCFA_DRG']\n",
    "                                                 .astype(int))"
   ]
  },
  {
   "cell_type": "code",
   "execution_count": 27,
   "metadata": {},
   "outputs": [
    {
     "data": {
      "text/html": [
       "<div>\n",
       "<table border=\"1\" class=\"dataframe\">\n",
       "  <thead>\n",
       "    <tr style=\"text-align: right;\">\n",
       "      <th></th>\n",
       "      <th>DISCHARGE_QTR</th>\n",
       "      <th>PROVIDER_NAME</th>\n",
       "      <th>HCFA_DRG</th>\n",
       "      <th>count</th>\n",
       "    </tr>\n",
       "  </thead>\n",
       "  <tbody>\n",
       "    <tr>\n",
       "      <th>0</th>\n",
       "      <td>2009Q1</td>\n",
       "      <td>UT Medical Branch Hospital</td>\n",
       "      <td>235</td>\n",
       "      <td>2</td>\n",
       "    </tr>\n",
       "    <tr>\n",
       "      <th>1</th>\n",
       "      <td>2009Q1</td>\n",
       "      <td>UT MD Anderson Cancer Center</td>\n",
       "      <td>740</td>\n",
       "      <td>10</td>\n",
       "    </tr>\n",
       "    <tr>\n",
       "      <th>2</th>\n",
       "      <td>2009Q1</td>\n",
       "      <td>Baptist St Anthonys Health System-Baptist Campus</td>\n",
       "      <td>28</td>\n",
       "      <td>1</td>\n",
       "    </tr>\n",
       "    <tr>\n",
       "      <th>3</th>\n",
       "      <td>2009Q1</td>\n",
       "      <td>Baptist St Anthonys Health System-Baptist Campus</td>\n",
       "      <td>59</td>\n",
       "      <td>2</td>\n",
       "    </tr>\n",
       "    <tr>\n",
       "      <th>4</th>\n",
       "      <td>2009Q1</td>\n",
       "      <td>Baptist St Anthonys Health System-Baptist Campus</td>\n",
       "      <td>252</td>\n",
       "      <td>11</td>\n",
       "    </tr>\n",
       "  </tbody>\n",
       "</table>\n",
       "</div>"
      ],
      "text/plain": [
       "  DISCHARGE_QTR                                     PROVIDER_NAME  HCFA_DRG  \\\n",
       "0        2009Q1                        UT Medical Branch Hospital       235   \n",
       "1        2009Q1                      UT MD Anderson Cancer Center       740   \n",
       "2        2009Q1  Baptist St Anthonys Health System-Baptist Campus        28   \n",
       "3        2009Q1  Baptist St Anthonys Health System-Baptist Campus        59   \n",
       "4        2009Q1  Baptist St Anthonys Health System-Baptist Campus       252   \n",
       "\n",
       "   count  \n",
       "0      2  \n",
       "1     10  \n",
       "2      1  \n",
       "3      2  \n",
       "4     11  "
      ]
     },
     "execution_count": 27,
     "metadata": {},
     "output_type": "execute_result"
    }
   ],
   "source": [
    "thcic_provider_grouped_pandas.head()"
   ]
  },
  {
   "cell_type": "code",
   "execution_count": 28,
   "metadata": {
    "collapsed": true
   },
   "outputs": [],
   "source": [
    "thcic_provider_grouped_pandas.to_csv('thcic-discharges-by-dischargeqtr_provider_msdrg.csv', index=False)"
   ]
  },
  {
   "cell_type": "markdown",
   "metadata": {},
   "source": [
    "### How many rows did we save?"
   ]
  },
  {
   "cell_type": "code",
   "execution_count": 29,
   "metadata": {},
   "outputs": [
    {
     "data": {
      "text/plain": [
       "5929937"
      ]
     },
     "execution_count": 29,
     "metadata": {},
     "output_type": "execute_result"
    }
   ],
   "source": [
    "thcic_ip_df.count()"
   ]
  },
  {
   "cell_type": "code",
   "execution_count": 30,
   "metadata": {},
   "outputs": [
    {
     "data": {
      "text/plain": [
       "DISCHARGE_QTR    697445\n",
       "PROVIDER_NAME    697445\n",
       "HCFA_DRG         697445\n",
       "count            697445\n",
       "dtype: int64"
      ]
     },
     "execution_count": 30,
     "metadata": {},
     "output_type": "execute_result"
    }
   ],
   "source": [
    "thcic_provider_grouped_pandas.count()"
   ]
  },
  {
   "cell_type": "code",
   "execution_count": null,
   "metadata": {
    "collapsed": true
   },
   "outputs": [],
   "source": []
  }
 ],
 "metadata": {
  "kernelspec": {
   "display_name": "Python 3",
   "language": "python",
   "name": "python3"
  },
  "language_info": {
   "codemirror_mode": {
    "name": "ipython",
    "version": 3
   },
   "file_extension": ".py",
   "mimetype": "text/x-python",
   "name": "python",
   "nbconvert_exporter": "python",
   "pygments_lexer": "ipython3",
   "version": "3.5.2"
  }
 },
 "nbformat": 4,
 "nbformat_minor": 2
}
